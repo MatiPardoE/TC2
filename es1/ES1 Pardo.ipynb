{
 "cells": [
  {
   "cell_type": "markdown",
   "id": "6360094a",
   "metadata": {},
   "source": [
    "<img src=\"./logo_UTN.svg\" align=\"right\" width=\"150\" /> \n",
    "\n",
    "#### Teoría de Circuitos II\n",
    "\n",
    "# ES1\n",
    "#### Alumno: Matias Pardo Errecarret"
   ]
  },
  {
   "cell_type": "markdown",
   "id": "534e73bf",
   "metadata": {},
   "source": [
    "## Consigna\n",
    "<img src=\"./consigna.png\" align=\"center\"  />"
   ]
  },
  {
   "cell_type": "code",
   "execution_count": 20,
   "id": "51e81af7",
   "metadata": {},
   "outputs": [
    {
     "data": {
      "text/html": [
       "\n",
       "        <iframe\n",
       "            width=\"900\"\n",
       "            height=\"1000\"\n",
       "            src=\"./ResolucionAnalitica.pdf\"\n",
       "            frameborder=\"0\"\n",
       "            allowfullscreen\n",
       "            \n",
       "        ></iframe>\n",
       "        "
      ],
      "text/plain": [
       "<IPython.lib.display.IFrame at 0x7f24cbdba460>"
      ]
     },
     "execution_count": 20,
     "metadata": {},
     "output_type": "execute_result"
    }
   ],
   "source": [
    "from IPython.display import IFrame\n",
    "IFrame(\"./ResolucionAnalitica.pdf\", width=900, height=1000)"
   ]
  },
  {
   "cell_type": "code",
   "execution_count": 37,
   "id": "8672cd76",
   "metadata": {},
   "outputs": [
    {
     "name": "stdout",
     "output_type": "stream",
     "text": [
      "\n",
      "################\n",
      "# Ejercicio 7a #\n",
      "################\n"
     ]
    },
    {
     "data": {
      "text/latex": [
       "$\\displaystyle \\frac{s - \\frac{G_{1}}{C G_{2} R_{3}}}{s + \\frac{1}{C R_{3}}}$"
      ],
      "text/plain": [
       "(s - G1/(C*G2*R3))/(s + 1/(C*R3))"
      ]
     },
     "metadata": {},
     "output_type": "display_data"
    }
   ],
   "source": [
    "#!/usr/bin/env python3\n",
    "# -*- coding: utf-8 -*-\n",
    "\"\"\"\n",
    "Created on Mon Apr 11 10:52:56 2022\n",
    "\n",
    "@author: mariano\n",
    "\"\"\"\n",
    "\n",
    "import sympy as sp\n",
    "from sympy.abc import s #importamos simbolo s\n",
    "from IPython.display import display, Math\n",
    "\n",
    "#Declaro simbolos variables\n",
    "V1, V2, Vx = sp.symbols(\"V1, V2, Vx\")\n",
    "G1, G2, Y1, Y2, R3, C = sp.symbols(\"G1, G2, Y1, Y2, R3, C\")\n",
    "\n",
    "aa = sp.solve([ Vx*(Y1+Y2)-V1*Y1, \n",
    "                Vx*(G1+G2) -V1*G1 -V2*G2], \n",
    "                [V1, V2])\n",
    "\n",
    "transf_func = aa[V2]/aa[V1]\n",
    "\n",
    "\n",
    "# Ejercicio 7.a: Pasatodo de 1er orden\n",
    "\n",
    "tf7a = transf_func.subs(Y1, s*C)\n",
    "tf7a = tf7a.subs(Y2, 1/R3)\n",
    "\n",
    "#expand: Expande \n",
    "num, den = sp.fraction(sp.simplify(sp.expand(tf7a)))\n",
    "\n",
    "num = sp.Poly(num,s)\n",
    "den = sp.Poly(den,s)\n",
    "\n",
    "#Obtengo coeficiente de mayor grado del Num y Den LC()\n",
    "#Lo divido para obtener el coeficiente externo\n",
    "k = num.LC() / den.LC()\n",
    "\n",
    "num = num.monic()\n",
    "den = den.monic()\n",
    "\n",
    "tf7a_final = sp.Mul(k,num/den, evaluate=True)\n",
    "\n",
    "print('')\n",
    "print('################')\n",
    "print('# Ejercicio 7a #')\n",
    "print('################')\n",
    "display(tf7a_final)\n"
   ]
  },
  {
   "cell_type": "markdown",
   "id": "e10ff4ac",
   "metadata": {},
   "source": [
    "### Normalizacion\n"
   ]
  },
  {
   "cell_type": "code",
   "execution_count": 38,
   "id": "d1c95c9a",
   "metadata": {},
   "outputs": [
    {
     "name": "stdout",
     "output_type": "stream",
     "text": [
      "\n",
      "################\n",
      "# Ejercicio 7a #\n",
      "################\n"
     ]
    },
    {
     "data": {
      "text/latex": [
       "$\\displaystyle \\frac{- \\frac{G_{1}}{G_{2}} + s}{s + 1}$"
      ],
      "text/plain": [
       "(-G1/G2 + s)/(s + 1)"
      ]
     },
     "metadata": {},
     "output_type": "display_data"
    }
   ],
   "source": [
    "tf7a = tf7a.subs(C, 1)\n",
    "tf7a = tf7a.subs(R3, 1)\n",
    "\n",
    "num, den = sp.fraction(sp.simplify(sp.expand(tf7a)))\n",
    "\n",
    "num = sp.Poly(num,s)\n",
    "den = sp.Poly(den,s)\n",
    "\n",
    "#Obtengo coeficiente de mayor grado del Num y Den LC()\n",
    "#Lo divido para obtener el coeficiente externo\n",
    "k = num.LC() / den.LC()\n",
    "\n",
    "num = num.monic()\n",
    "den = den.monic()\n",
    "\n",
    "tf7a_final = sp.Mul(k,num/den, evaluate=True)\n",
    "\n",
    "print('')\n",
    "print('################')\n",
    "print('# Ejercicio 7a #')\n",
    "print('################')\n",
    "display(tf7a_final)"
   ]
  },
  {
   "cell_type": "code",
   "execution_count": 40,
   "id": "6eb735ce",
   "metadata": {},
   "outputs": [
    {
     "ename": "NameError",
     "evalue": "name 'mpl' is not defined",
     "output_type": "error",
     "traceback": [
      "\u001b[0;31m---------------------------------------------------------------------------\u001b[0m",
      "\u001b[0;31mNameError\u001b[0m                                 Traceback (most recent call last)",
      "\u001b[0;32m/tmp/ipykernel_18736/3827371936.py\u001b[0m in \u001b[0;36m<cell line: 4>\u001b[0;34m()\u001b[0m\n\u001b[1;32m      2\u001b[0m \u001b[0;31m# Setup inline graphics: Esto lo hacemos para que el tamaño de la salida,\u001b[0m\u001b[0;34m\u001b[0m\u001b[0;34m\u001b[0m\u001b[0;34m\u001b[0m\u001b[0m\n\u001b[1;32m      3\u001b[0m \u001b[0;31m# sea un poco más adecuada al tamaño del documento\u001b[0m\u001b[0;34m\u001b[0m\u001b[0;34m\u001b[0m\u001b[0;34m\u001b[0m\u001b[0m\n\u001b[0;32m----> 4\u001b[0;31m \u001b[0mmpl\u001b[0m\u001b[0;34m.\u001b[0m\u001b[0mrcParams\u001b[0m\u001b[0;34m[\u001b[0m\u001b[0;34m'figure.figsize'\u001b[0m\u001b[0;34m]\u001b[0m \u001b[0;34m=\u001b[0m \u001b[0;34m(\u001b[0m\u001b[0;36m10\u001b[0m\u001b[0;34m,\u001b[0m\u001b[0;36m10\u001b[0m\u001b[0;34m)\u001b[0m\u001b[0;34m\u001b[0m\u001b[0;34m\u001b[0m\u001b[0m\n\u001b[0m\u001b[1;32m      5\u001b[0m \u001b[0;34m\u001b[0m\u001b[0m\n\u001b[1;32m      6\u001b[0m \u001b[0;31m#%% Esto tiene que ver con cuestiones de presentación de los gráficos,\u001b[0m\u001b[0;34m\u001b[0m\u001b[0;34m\u001b[0m\u001b[0;34m\u001b[0m\u001b[0m\n",
      "\u001b[0;31mNameError\u001b[0m: name 'mpl' is not defined"
     ]
    }
   ],
   "source": [
    "import matplotlib as mpl\n",
    "import matplotlib.pyplot as plt\n",
    "import numpy as np\n",
    "import scipy.signal as sig\n",
    "from splane import analyze_sys, pretty_print_lti\n",
    "\n",
    "#%%  Inicialización de librerías\n",
    "# Setup inline graphics: Esto lo hacemos para que el tamaño de la salida, \n",
    "# sea un poco más adecuada al tamaño del documento\n",
    "mpl.rcParams['figure.figsize'] = (10,10)\n",
    "\n",
    "#%% Esto tiene que ver con cuestiones de presentación de los gráficos,\n",
    "# NO ES IMPORTANTE\n",
    "fig_sz_x = 14\n",
    "fig_sz_y = 13\n",
    "fig_dpi = 80 # dpi\n",
    "\n",
    "fig_font_family = 'Ubuntu'\n",
    "fig_font_size = 16\n",
    "\n",
    "plt.rcParams.update({'font.size':fig_font_size})\n",
    "plt.rcParams.update({'font.family':fig_font_family})\n",
    "\n",
    "\n",
    "# parametrización de wo o Q.\n",
    "all_sos = []\n",
    "\n",
    "wo = 1\n",
    "\n",
    "#G1/G2 Var\n",
    "G1_div_G2 = [0.5,1,1.5]\n",
    "\n",
    "for ii in G1_div_G2:\n",
    "    \n",
    "    num = np.array([1,-1*ii]) \n",
    "    den = np.array([1, wo])\n",
    "    \n",
    "    \n",
    "\n",
    "    mi_sos = sig.TransferFunction(num,den)\n",
    "    \n",
    "    pretty_print_lti(mi_sos)\n",
    "    \n",
    "    all_sos += [mi_sos]\n",
    "    \n",
    "#plt.close('all')\n",
    "analyze_sys(all_sos, sys_name=G1_div_G2)"
   ]
  },
  {
   "cell_type": "code",
   "execution_count": null,
   "id": "bf344ab4",
   "metadata": {},
   "outputs": [],
   "source": []
  }
 ],
 "metadata": {
  "kernelspec": {
   "display_name": "Python 3 (ipykernel)",
   "language": "python",
   "name": "python3"
  },
  "language_info": {
   "codemirror_mode": {
    "name": "ipython",
    "version": 3
   },
   "file_extension": ".py",
   "mimetype": "text/x-python",
   "name": "python",
   "nbconvert_exporter": "python",
   "pygments_lexer": "ipython3",
   "version": "3.8.10"
  }
 },
 "nbformat": 4,
 "nbformat_minor": 5
}
