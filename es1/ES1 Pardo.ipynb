{
 "cells": [
  {
   "cell_type": "markdown",
   "id": "6360094a",
   "metadata": {},
   "source": [
    "<img src=\"./logo_UTN.svg\" align=\"right\" width=\"150\" /> \n",
    "\n",
    "#### Teoría de Circuitos II\n",
    "\n",
    "# ES1\n",
    "#### Alumno: Matias Pardo Errecarret"
   ]
  },
  {
   "cell_type": "markdown",
   "id": "534e73bf",
   "metadata": {},
   "source": [
    "## Consigna\n",
    "<img src=\"./consigna.png\" align=\"center\"  />"
   ]
  },
  {
   "cell_type": "code",
   "execution_count": 6,
   "id": "51e81af7",
   "metadata": {},
   "outputs": [
    {
     "data": {
      "text/html": [
       "\n",
       "        <iframe\n",
       "            width=\"900\"\n",
       "            height=\"1000\"\n",
       "            src=\"./ResolucionAnalitica.pdf\"\n",
       "            frameborder=\"0\"\n",
       "            allowfullscreen\n",
       "            \n",
       "        ></iframe>\n",
       "        "
      ],
      "text/plain": [
       "<IPython.lib.display.IFrame at 0x7f24f04f6610>"
      ]
     },
     "execution_count": 6,
     "metadata": {},
     "output_type": "execute_result"
    }
   ],
   "source": [
    "from IPython.display import IFrame\n",
    "IFrame(\"./ResolucionAnalitica.pdf\", width=900, height=1000)"
   ]
  },
  {
   "cell_type": "markdown",
   "id": "e10ff4ac",
   "metadata": {},
   "source": [
    "<embed src=\"./\" width=\"500\" height=\"375\" \n",
    " type=\"application/pdf\">"
   ]
  }
 ],
 "metadata": {
  "kernelspec": {
   "display_name": "Python 3 (ipykernel)",
   "language": "python",
   "name": "python3"
  },
  "language_info": {
   "codemirror_mode": {
    "name": "ipython",
    "version": 3
   },
   "file_extension": ".py",
   "mimetype": "text/x-python",
   "name": "python",
   "nbconvert_exporter": "python",
   "pygments_lexer": "ipython3",
   "version": "3.8.10"
  }
 },
 "nbformat": 4,
 "nbformat_minor": 5
}
