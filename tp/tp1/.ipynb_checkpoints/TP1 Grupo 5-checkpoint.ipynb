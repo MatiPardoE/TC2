{
 "cells": [
  {
   "cell_type": "markdown",
   "id": "eb55e4d9",
   "metadata": {},
   "source": [
    "<img src=\"./resources/logo_UTN.svg\" align=\"right\" width=\"300\" /> \n",
    "\n",
    "\n",
    "# Trabajo Práctico 1 - Grupo 5\n",
    "\n",
    "## Amplificadores OPAMP y OTA\n",
    "\n",
    "### Integrantes:\n",
    "- Hernan Rodriguez\n",
    "- Martin Rivas\n",
    "- Juan Costa\n",
    "- Matias Pardo Errecarret"
   ]
  },
  {
   "cell_type": "markdown",
   "id": "434c4d37",
   "metadata": {},
   "source": [
    "#### Ejercicio 1:\n",
    "<img src=\"./resources/eje1_consigna.png\" align=\"center\" width=\"600\" /> "
   ]
  },
  {
   "cell_type": "code",
   "execution_count": 4,
   "id": "26dc4ce0",
   "metadata": {},
   "outputs": [
    {
     "data": {
      "text/html": [
       "\n",
       "        <iframe\n",
       "            width=\"950\"\n",
       "            height=\"1000\"\n",
       "            src=\"./resources/tp1_ej1_a.pdf\"\n",
       "            frameborder=\"0\"\n",
       "            allowfullscreen\n",
       "            \n",
       "        ></iframe>\n",
       "        "
      ],
      "text/plain": [
       "<IPython.lib.display.IFrame at 0x7f2bd0216ac0>"
      ]
     },
     "execution_count": 4,
     "metadata": {},
     "output_type": "execute_result"
    }
   ],
   "source": [
    "########################################### Eje 1 Resolucion Analitica ###########################################\n",
    "from IPython.display import IFrame\n",
    "IFrame(\"./resources/tp1_ej1.pdf\", width=950, height=1000)"
   ]
  },
  {
   "cell_type": "markdown",
   "id": "ea6bbfa9",
   "metadata": {},
   "source": [
    "#### Ejercicio 2:\n",
    "<img src=\"./resources/eje2_consigna.png\" align=\"center\" width=\"600\" /> "
   ]
  },
  {
   "cell_type": "code",
   "execution_count": 5,
   "id": "556e88cb",
   "metadata": {},
   "outputs": [
    {
     "data": {
      "text/html": [
       "\n",
       "        <iframe\n",
       "            width=\"950\"\n",
       "            height=\"1000\"\n",
       "            src=\"./resources/tp1_ej2.pdf\"\n",
       "            frameborder=\"0\"\n",
       "            allowfullscreen\n",
       "            \n",
       "        ></iframe>\n",
       "        "
      ],
      "text/plain": [
       "<IPython.lib.display.IFrame at 0x7f2bd0216e80>"
      ]
     },
     "execution_count": 5,
     "metadata": {},
     "output_type": "execute_result"
    }
   ],
   "source": [
    "########################################### Eje 2 Resolucion Analitica ##########################################\n",
    "IFrame(\"./resources/tp1_ej2.pdf\", width=950, height=1000)"
   ]
  },
  {
   "cell_type": "code",
   "execution_count": 1,
   "id": "5d7778b2",
   "metadata": {},
   "outputs": [
    {
     "ename": "NameError",
     "evalue": "name 'tf7a' is not defined",
     "output_type": "error",
     "traceback": [
      "\u001b[0;31m---------------------------------------------------------------------------\u001b[0m",
      "\u001b[0;31mNameError\u001b[0m                                 Traceback (most recent call last)",
      "\u001b[0;32m/tmp/ipykernel_24015/2484988013.py\u001b[0m in \u001b[0;36m<cell line: 21>\u001b[0;34m()\u001b[0m\n\u001b[1;32m     19\u001b[0m \u001b[0;31m#tf7a = tf7a.subs(Gb, 1/(k*R))\u001b[0m\u001b[0;34m\u001b[0m\u001b[0;34m\u001b[0m\u001b[0;34m\u001b[0m\u001b[0m\n\u001b[1;32m     20\u001b[0m \u001b[0;34m\u001b[0m\u001b[0m\n\u001b[0;32m---> 21\u001b[0;31m \u001b[0mtf7a\u001b[0m \u001b[0;34m=\u001b[0m \u001b[0msp\u001b[0m\u001b[0;34m.\u001b[0m\u001b[0msimplify\u001b[0m\u001b[0;34m(\u001b[0m\u001b[0mtf7a\u001b[0m\u001b[0;34m)\u001b[0m\u001b[0;34m\u001b[0m\u001b[0;34m\u001b[0m\u001b[0m\n\u001b[0m\u001b[1;32m     22\u001b[0m \u001b[0mdisplay\u001b[0m\u001b[0;34m(\u001b[0m\u001b[0mtf7a\u001b[0m\u001b[0;34m)\u001b[0m\u001b[0;34m\u001b[0m\u001b[0;34m\u001b[0m\u001b[0m\n",
      "\u001b[0;31mNameError\u001b[0m: name 'tf7a' is not defined"
     ]
    }
   ],
   "source": [
    "import sympy as sp\n",
    "from sympy.abc import s #importamos simbolo s\n",
    "from IPython.display import display, Math\n",
    "\n",
    "#Declaro simbolos variables\n",
    "V1, Va, Vb = sp.symbols(\"V1, Va, Vb\")\n",
    "G, Ga, Gb = sp.symbols(\"G, Ga, Gb\")\n",
    "\n",
    "aa = sp.solve([ V1*(Ga+2*G)-Va*Ga, \n",
    "                -Vb*Gb-V1*G], \n",
    "                [Va, Vb])\n",
    "\n",
    "transf_func = aa[Va]-aa[Vb]\n",
    "\n",
    "\n",
    "# Ejercicio TP1_Eje_2:\n",
    "\n",
    "tf7a = transf_func.subs(Ga, 2/(R*(k-1)))\n",
    "tf7a = tf7a.subs(Gb, 1/(k*R))\n",
    "\n",
    "tf7a = sp.simplify(tf7a)\n",
    "display(tf7a)\n"
   ]
  },
  {
   "cell_type": "code",
   "execution_count": null,
   "id": "f56e0ba4",
   "metadata": {},
   "outputs": [],
   "source": []
  }
 ],
 "metadata": {
  "kernelspec": {
   "display_name": "Python 3 (ipykernel)",
   "language": "python",
   "name": "python3"
  },
  "language_info": {
   "codemirror_mode": {
    "name": "ipython",
    "version": 3
   },
   "file_extension": ".py",
   "mimetype": "text/x-python",
   "name": "python",
   "nbconvert_exporter": "python",
   "pygments_lexer": "ipython3",
   "version": "3.8.10"
  }
 },
 "nbformat": 4,
 "nbformat_minor": 5
}
