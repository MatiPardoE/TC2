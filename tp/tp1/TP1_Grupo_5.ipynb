{
 "cells": [
  {
   "cell_type": "markdown",
   "id": "a84415ad",
   "metadata": {},
   "source": [
    "<img src=\"./resources/logo_UTN.svg\" align=\"right\" width=\"300\" /> \n",
    "\n",
    "\n",
    "# Trabajo Práctico 1 - Grupo 5\n",
    "\n",
    "## Amplificadores OPAMP y OTA\n",
    "\n",
    "### Integrantes:\n",
    "- Hernan Rodriguez\n",
    "- Martin Rivas\n",
    "- Juan Costa\n",
    "- Matias Pardo Errecarret"
   ]
  },
  {
   "cell_type": "markdown",
   "id": "84562692",
   "metadata": {},
   "source": [
    "#### Ejercicio 1:\n",
    "<img src=\"./resources/eje1_consigna.png\" align=\"center\" width=\"600\" /> "
   ]
  },
  {
   "cell_type": "code",
   "execution_count": 32,
   "id": "57bd70a9",
   "metadata": {},
   "outputs": [
    {
     "data": {
      "text/html": [
       "\n",
       "        <iframe\n",
       "            width=\"950\"\n",
       "            height=\"1000\"\n",
       "            src=\"./resources/tp1_ej1.pdf\"\n",
       "            frameborder=\"0\"\n",
       "            allowfullscreen\n",
       "            \n",
       "        ></iframe>\n",
       "        "
      ],
      "text/plain": [
       "<IPython.lib.display.IFrame at 0x7f31feb28160>"
      ]
     },
     "execution_count": 32,
     "metadata": {},
     "output_type": "execute_result"
    }
   ],
   "source": [
    "########################################### Eje 1 Resolucion Analitica ###########################################\n",
    "from IPython.display import IFrame\n",
    "IFrame(\"./resources/tp1_ej1.pdf\", width=950, height=1000)"
   ]
  },
  {
   "cell_type": "markdown",
   "id": "0a37a808",
   "metadata": {},
   "source": [
    "#### Ejercicio 2:\n",
    "<img src=\"./resources/eje2_consigna.png\" align=\"center\" width=\"600\" /> "
   ]
  },
  {
   "cell_type": "code",
   "execution_count": 5,
   "id": "59653f68",
   "metadata": {},
   "outputs": [
    {
     "data": {
      "text/html": [
       "\n",
       "        <iframe\n",
       "            width=\"950\"\n",
       "            height=\"1000\"\n",
       "            src=\"./resources/tp1_ej2.pdf\"\n",
       "            frameborder=\"0\"\n",
       "            allowfullscreen\n",
       "            \n",
       "        ></iframe>\n",
       "        "
      ],
      "text/plain": [
       "<IPython.lib.display.IFrame at 0x7f2bd0216e80>"
      ]
     },
     "execution_count": 5,
     "metadata": {},
     "output_type": "execute_result"
    }
   ],
   "source": [
    "########################################### Eje 2 Resolucion Analitica ##########################################\n",
    "IFrame(\"./resources/tp1_ej2.pdf\", width=950, height=1000)"
   ]
  },
  {
   "cell_type": "code",
   "execution_count": 37,
   "id": "2e01bd70",
   "metadata": {},
   "outputs": [
    {
     "name": "stdout",
     "output_type": "stream",
     "text": [
      "#################################\n",
      "# Simulacion Simbolica TP1_Eje2 #\n",
      "#################################\n"
     ]
    },
    {
     "data": {
      "text/markdown": [
       "Vab = $2 V_{1} k$"
      ],
      "text/plain": [
       "<IPython.core.display.Markdown object>"
      ]
     },
     "metadata": {},
     "output_type": "display_data"
    }
   ],
   "source": [
    "import sympy as sp\n",
    "from sympy.abc import s #importamos simbolo s\n",
    "from IPython.display import display, Math, Markdown\n",
    "\n",
    "sol = \"Vab = \"\n",
    "\n",
    "#Declaro simbolos variables\n",
    "V1, Va, Vb = sp.symbols(\"V1, Va, Vb\")\n",
    "G, Ga, Gb, k = sp.symbols(\"G, Ga, Gb, k\")\n",
    "\n",
    "aa = sp.solve([ V1*(Ga+2*G)-Va*Ga, \n",
    "                -Vb*Gb-V1*G], \n",
    "                [Va, Vb])\n",
    "\n",
    "transf_func = aa[Va]-aa[Vb]\n",
    "\n",
    "# Ejercicio TP1_Eje_2:\n",
    "\n",
    "tf7a = transf_func.subs(Ga, 2*G/(k-1))\n",
    "tf7a = tf7a.subs(Gb, G/(k))\n",
    "\n",
    "tf7a = sp.simplify(tf7a)\n",
    "print('#################################')\n",
    "print('# Simulacion Simbolica TP1_Eje2 #')\n",
    "print('#################################')\n",
    "\n",
    "display(\n",
    "    Markdown(\n",
    "        'Vab = {}'.format(\n",
    "            sp.latex(tf7a, mode='inline')\n",
    "        )\n",
    "    )\n",
    ")\n",
    "\n"
   ]
  },
  {
   "cell_type": "markdown",
   "id": "f10d6f1f",
   "metadata": {},
   "source": [
    "#### Ejercicio 3:\n",
    "<img src=\"./resources/eje3_consigna.png\" align=\"center\" width=\"600\" /> "
   ]
  },
  {
   "cell_type": "code",
   "execution_count": 33,
   "id": "dcef8284",
   "metadata": {},
   "outputs": [
    {
     "data": {
      "text/html": [
       "\n",
       "        <iframe\n",
       "            width=\"950\"\n",
       "            height=\"1000\"\n",
       "            src=\"./resources/tp1_ej3.pdf\"\n",
       "            frameborder=\"0\"\n",
       "            allowfullscreen\n",
       "            \n",
       "        ></iframe>\n",
       "        "
      ],
      "text/plain": [
       "<IPython.lib.display.IFrame at 0x7f31feb285b0>"
      ]
     },
     "execution_count": 33,
     "metadata": {},
     "output_type": "execute_result"
    }
   ],
   "source": [
    "########################################### Eje 3 Resolucion Analitica ##########################################\n",
    "IFrame(\"./resources/tp1_ej3.pdf\", width=950, height=1000)"
   ]
  },
  {
   "cell_type": "markdown",
   "id": "cd9664b1",
   "metadata": {},
   "source": [
    "#### Ejercicio 4:\n",
    "<img src=\"./resources/eje4_consigna.png\" align=\"center\" width=\"600\" /> "
   ]
  },
  {
   "cell_type": "code",
   "execution_count": 35,
   "id": "edad8968",
   "metadata": {},
   "outputs": [
    {
     "data": {
      "text/html": [
       "\n",
       "        <iframe\n",
       "            width=\"950\"\n",
       "            height=\"1000\"\n",
       "            src=\"./resources/tp1_ej4.pdf\"\n",
       "            frameborder=\"0\"\n",
       "            allowfullscreen\n",
       "            \n",
       "        ></iframe>\n",
       "        "
      ],
      "text/plain": [
       "<IPython.lib.display.IFrame at 0x7f31feb28dc0>"
      ]
     },
     "execution_count": 35,
     "metadata": {},
     "output_type": "execute_result"
    }
   ],
   "source": [
    "########################################### Eje 4 Resolucion Analitica + LtSpice  #################################\n",
    "IFrame(\"./resources/tp1_ej4.pdf\", width=950, height=1000)"
   ]
  },
  {
   "cell_type": "markdown",
   "id": "1a542d60",
   "metadata": {},
   "source": [
    "#### Ejercicio 5:\n",
    "<img src=\"./resources/eje5_consigna.png\" align=\"center\" width=\"600\" /> "
   ]
  },
  {
   "cell_type": "code",
   "execution_count": 39,
   "id": "a4983260",
   "metadata": {},
   "outputs": [
    {
     "data": {
      "text/html": [
       "\n",
       "        <iframe\n",
       "            width=\"950\"\n",
       "            height=\"1000\"\n",
       "            src=\"./resources/tp1_ej5.pdf\"\n",
       "            frameborder=\"0\"\n",
       "            allowfullscreen\n",
       "            \n",
       "        ></iframe>\n",
       "        "
      ],
      "text/plain": [
       "<IPython.lib.display.IFrame at 0x7f322030afa0>"
      ]
     },
     "execution_count": 39,
     "metadata": {},
     "output_type": "execute_result"
    }
   ],
   "source": [
    "########################################### Eje 5 Resolucion Analitica + LtSpice  #################################\n",
    "IFrame(\"./resources/tp1_ej5.pdf\", width=950, height=1000)"
   ]
  },
  {
   "cell_type": "markdown",
   "id": "0ea41d56",
   "metadata": {},
   "source": [
    "#### Ejercicio 6:\n",
    "<img src=\"./resources/eje6_consigna.png\" align=\"center\" width=\"600\" /> "
   ]
  },
  {
   "cell_type": "code",
   "execution_count": 40,
   "id": "79532461",
   "metadata": {},
   "outputs": [
    {
     "data": {
      "text/html": [
       "\n",
       "        <iframe\n",
       "            width=\"950\"\n",
       "            height=\"1000\"\n",
       "            src=\"./resources/tp1_ej6.pdf\"\n",
       "            frameborder=\"0\"\n",
       "            allowfullscreen\n",
       "            \n",
       "        ></iframe>\n",
       "        "
      ],
      "text/plain": [
       "<IPython.lib.display.IFrame at 0x7f31feb7be20>"
      ]
     },
     "execution_count": 40,
     "metadata": {},
     "output_type": "execute_result"
    }
   ],
   "source": [
    "########################################### Eje 6 Resolucion Analitica  ##########################################\n",
    "IFrame(\"./resources/tp1_ej6.pdf\", width=950, height=1000)"
   ]
  },
  {
   "cell_type": "markdown",
   "id": "3bcde0f0",
   "metadata": {},
   "source": [
    "#### Ejercicio 7:\n",
    "<img src=\"./resources/eje7_consigna.png\" align=\"center\" width=\"600\" /> "
   ]
  },
  {
   "cell_type": "markdown",
   "id": "24d97f8a",
   "metadata": {},
   "source": [
    "#### Ejercicio 7A:\n",
    "El 7a fue parte de una entrega semanal:\n",
    "[Ejercicio 7a](https://nbviewer.org/github/MatiPardoE/tc2/blob/master/es1/ES1%20Pardo.ipynb?flush_cache=true \"ES1 Matias Pardo E\")"
   ]
  },
  {
   "cell_type": "code",
   "execution_count": 42,
   "id": "d739f3ae",
   "metadata": {},
   "outputs": [
    {
     "data": {
      "text/html": [
       "\n",
       "        <iframe\n",
       "            width=\"950\"\n",
       "            height=\"1000\"\n",
       "            src=\"./resources/tp1_ej7b.pdf\"\n",
       "            frameborder=\"0\"\n",
       "            allowfullscreen\n",
       "            \n",
       "        ></iframe>\n",
       "        "
      ],
      "text/plain": [
       "<IPython.lib.display.IFrame at 0x7f31feaff6a0>"
      ]
     },
     "execution_count": 42,
     "metadata": {},
     "output_type": "execute_result"
    }
   ],
   "source": [
    "########################################### Eje 7b Resolucion Analitica + LTSpice  ################################\n",
    "IFrame(\"./resources/tp1_ej7b.pdf\", width=950, height=1000)"
   ]
  },
  {
   "cell_type": "code",
   "execution_count": 52,
   "id": "5028dd3b",
   "metadata": {},
   "outputs": [
    {
     "name": "stdout",
     "output_type": "stream",
     "text": [
      "#########################\n",
      "# Ejercicio 7b Generica #\n",
      "#########################\n"
     ]
    },
    {
     "data": {
      "text/latex": [
       "$\\displaystyle - \\frac{Ga \\left(s^{2} + \\frac{s \\left(2 G Ga - G Gb\\right)}{C Ga} + \\frac{G^{2}}{C^{2}}\\right)}{Gb \\left(s^{2} + \\frac{3 G s}{C} + \\frac{G^{2}}{C^{2}}\\right)}$"
      ],
      "text/plain": [
       "-Ga*(s**2 + s*(2*G*Ga - G*Gb)/(C*Ga) + G**2/C**2)/(Gb*(s**2 + 3*G*s/C + G**2/C**2))"
      ]
     },
     "metadata": {},
     "output_type": "display_data"
    },
    {
     "name": "stdout",
     "output_type": "stream",
     "text": [
      "###############################\n",
      "# Ejercicio 7b Caso Ra/Rb = 5 #\n",
      "###############################\n"
     ]
    },
    {
     "data": {
      "text/latex": [
       "$\\displaystyle - \\frac{s^{2} - \\frac{3 G s}{C} + \\frac{G^{2}}{C^{2}}}{5 \\left(s^{2} + \\frac{3 G s}{C} + \\frac{G^{2}}{C^{2}}\\right)}$"
      ],
      "text/plain": [
       "-(s**2 - 3*G*s/C + G**2/C**2)/(5*(s**2 + 3*G*s/C + G**2/C**2))"
      ]
     },
     "metadata": {},
     "output_type": "display_data"
    }
   ],
   "source": [
    "#Eje 7b Pasatodo 2do Orden\n",
    "#Declaro simbolos variables\n",
    "V1, V2, Vx = sp.symbols(\"V1, V2, Vx\")\n",
    "Ga, Gb, Y1, Y2, G, C = sp.symbols(\"Ga, Gb, Y1, Y2, G, C\")\n",
    "\n",
    "#Condiciones\n",
    "\n",
    "#La ecuacion de nodos es la misma que el 7a\n",
    "#despues hago sub para las asociaciones series y //\n",
    "aa = sp.solve([ Vx*(Y1+Y2)-V1*Y1, \n",
    "                Vx*(Ga+Gb) -V1*Ga -V2*Gb], \n",
    "                [V1, V2])\n",
    "\n",
    "transf_func = aa[V2]/aa[V1]\n",
    "\n",
    "\n",
    "# Ejercicio 7.b: Pasatodo de 2do orden\n",
    "\n",
    "tf = transf_func.subs(Y1, (s*C*G)/(s*C+G))\n",
    "tf = tf.subs(Y2, s*C+G)\n",
    "\n",
    "num, den = sp.fraction(sp.simplify(sp.expand(tf)))\n",
    "\n",
    "num = sp.Poly(num,s)\n",
    "den = sp.Poly(den,s)\n",
    "\n",
    "#Obtengo coeficiente de mayor grado del Num y Den LC()\n",
    "#Lo divido para obtener el coeficiente externo\n",
    "k = num.LC() / den.LC()\n",
    "\n",
    "num = num.monic()\n",
    "den = den.monic()\n",
    "\n",
    "tf_final = sp.Mul(k,num/den, evaluate=True)\n",
    "\n",
    "\n",
    "print('#########################')\n",
    "print('# Ejercicio 7b Generica #')\n",
    "print('#########################')\n",
    "display(tf_final)\n",
    "\n",
    "#Para caso de Ra/Rb = 5\n",
    "tf_case1 = tf.subs(Gb, Ga*5)\n",
    "\n",
    "num, den = sp.fraction(sp.simplify(sp.expand(tf_case1)))\n",
    "\n",
    "num = sp.Poly(num,s)\n",
    "den = sp.Poly(den,s)\n",
    "\n",
    "k = num.LC() / den.LC()\n",
    "\n",
    "num = num.monic()\n",
    "den = den.monic()\n",
    "\n",
    "tf_final = sp.Mul(k,num/den, evaluate=True)\n",
    "\n",
    "print('###############################')\n",
    "print('# Ejercicio 7b Caso Ra/Rb = 5 #')\n",
    "print('###############################')\n",
    "display(tf_final)"
   ]
  },
  {
   "cell_type": "code",
   "execution_count": 55,
   "id": "f9c3343b",
   "metadata": {},
   "outputs": [
    {
     "name": "stdout",
     "output_type": "stream",
     "text": [
      "\n",
      "###################################\n",
      "# Ejercicio 7b Caso 1 Normalizado #\n",
      "###################################\n"
     ]
    },
    {
     "data": {
      "text/latex": [
       "$\\displaystyle - \\frac{s^{2} - 3 s + 1}{5 \\left(s^{2} + 3 s + 1\\right)}$"
      ],
      "text/plain": [
       "-(s**2 - 3*s + 1)/(5*(s**2 + 3*s + 1))"
      ]
     },
     "metadata": {},
     "output_type": "display_data"
    }
   ],
   "source": [
    "#Caso Ra/Rb Normalizado\n",
    "tf_case1_norm = tf_case1.subs(C, 1)\n",
    "tf_case1_norm = tf_case1_norm.subs(G, 1)\n",
    "\n",
    "num, den = sp.fraction(sp.simplify(sp.expand(tf_case1_norm)))\n",
    "\n",
    "num = sp.Poly(num,s)\n",
    "den = sp.Poly(den,s)\n",
    "\n",
    "#Obtengo coeficiente de mayor grado del Num y Den LC()\n",
    "#Lo divido para obtener el coeficiente externo\n",
    "k = num.LC() / den.LC()\n",
    "\n",
    "num = num.monic()\n",
    "den = den.monic()\n",
    "\n",
    "tf_final = sp.Mul(k,num/den, evaluate=True)\n",
    "\n",
    "print('')\n",
    "print('###################################')\n",
    "print('# Ejercicio 7b Caso 1 Normalizado #')\n",
    "print('###################################')\n",
    "display(tf_final)"
   ]
  },
  {
   "cell_type": "code",
   "execution_count": 58,
   "id": "c88fd893",
   "metadata": {},
   "outputs": [
    {
     "data": {
      "text/latex": [
       "$\\displaystyle \\frac{s^2 \\,\\, -0.2 + s \\,\\, 0.6 + -0.2 }{s^2 + s \\,\\,   3 +   1 }$"
      ],
      "text/plain": [
       "<IPython.core.display.Math object>"
      ]
     },
     "metadata": {},
     "output_type": "display_data"
    },
    {
     "data": {
      "image/png": "[encoded data removed]",
      "text/plain": [
       "<Figure size 1080x1080 with 2 Axes>"
      ]
     },
     "metadata": {
      "needs_background": "light"
     },
     "output_type": "display_data"
    },
    {
     "data": {
      "image/png": "[encoded data removed]",
      "text/plain": [
       "<Figure size 1080x1080 with 1 Axes>"
      ]
     },
     "metadata": {
      "needs_background": "light"
     },
     "output_type": "display_data"
    },
    {
     "data": {
      "image/png": "[encoded data removed]",
      "text/plain": [
       "<Figure size 1080x1080 with 1 Axes>"
      ]
     },
     "metadata": {
      "needs_background": "light"
     },
     "output_type": "display_data"
    }
   ],
   "source": [
    "import matplotlib as mpl\n",
    "import matplotlib.pyplot as plt\n",
    "import numpy as np\n",
    "import scipy.signal as sig\n",
    "from splane import analyze_sys, pretty_print_lti\n",
    "\n",
    "#%%  Inicialización de librerías\n",
    "# Setup inline graphics: Esto lo hacemos para que el tamaño de la salida, \n",
    "# sea un poco más adecuada al tamaño del documento\n",
    "mpl.rcParams['figure.figsize'] = (15,15)\n",
    "\n",
    "#%% Esto tiene que ver con cuestiones de presentación de los gráficos,\n",
    "# NO ES IMPORTANTE\n",
    "fig_sz_x = 14\n",
    "fig_sz_y = 13\n",
    "fig_dpi = 80 # dpi\n",
    "\n",
    "fig_font_family = 'Ubuntu'\n",
    "fig_font_size = 16\n",
    "\n",
    "plt.rcParams.update({'font.size':fig_font_size})\n",
    "plt.rcParams.update({'font.family':fig_font_family})\n",
    "\n",
    "all_sos = []\n",
    "\n",
    "wo = 1\n",
    "    \n",
    "num = np.array([1,-3,wo]) \n",
    "den = np.array([1,3, wo])*(-5) #Constante K \n",
    "    \n",
    "mi_sos = sig.TransferFunction(num,den)\n",
    "    \n",
    "pretty_print_lti(mi_sos)\n",
    "    \n",
    "all_sos += [mi_sos]\n",
    "    \n",
    "analyze_sys(all_sos)"
   ]
  },
  {
   "cell_type": "markdown",
   "id": "1afa0220",
   "metadata": {},
   "source": [
    "#### Ejercicio 8:\n",
    "<img src=\"./resources/eje8_consigna.png\" align=\"center\" width=\"600\" /> "
   ]
  },
  {
   "cell_type": "code",
   "execution_count": 59,
   "id": "99abc4f5",
   "metadata": {},
   "outputs": [
    {
     "data": {
      "text/html": [
       "\n",
       "        <iframe\n",
       "            width=\"950\"\n",
       "            height=\"1000\"\n",
       "            src=\"./resources/tp1_ej8.pdf\"\n",
       "            frameborder=\"0\"\n",
       "            allowfullscreen\n",
       "            \n",
       "        ></iframe>\n",
       "        "
      ],
      "text/plain": [
       "<IPython.lib.display.IFrame at 0x7f31dde22280>"
      ]
     },
     "execution_count": 59,
     "metadata": {},
     "output_type": "execute_result"
    }
   ],
   "source": [
    "########################################### Eje 8 Resolucion Analitica ##########################################\n",
    "IFrame(\"./resources/tp1_ej8.pdf\", width=950, height=1000)"
   ]
  },
  {
   "cell_type": "markdown",
   "id": "7b3bd766",
   "metadata": {},
   "source": [
    "#### Ejercicio 9:\n",
    "<img src=\"./resources/eje9_consigna.png\" align=\"center\" width=\"600\" /> "
   ]
  },
  {
   "cell_type": "code",
   "execution_count": 60,
   "id": "c011112e",
   "metadata": {},
   "outputs": [
    {
     "data": {
      "text/html": [
       "\n",
       "        <iframe\n",
       "            width=\"950\"\n",
       "            height=\"1000\"\n",
       "            src=\"./resources/tp1_ej9.pdf\"\n",
       "            frameborder=\"0\"\n",
       "            allowfullscreen\n",
       "            \n",
       "        ></iframe>\n",
       "        "
      ],
      "text/plain": [
       "<IPython.lib.display.IFrame at 0x7f31dde220a0>"
      ]
     },
     "execution_count": 60,
     "metadata": {},
     "output_type": "execute_result"
    }
   ],
   "source": [
    "########################################### Eje 9 Resolucion Analitica ##########################################\n",
    "IFrame(\"./resources/tp1_ej9.pdf\", width=950, height=1000)"
   ]
  },
  {
   "cell_type": "markdown",
   "id": "7f05ed4a",
   "metadata": {},
   "source": [
    "#### Ejercicio 10:\n",
    "<img src=\"./resources/eje10_consigna.png\" align=\"center\" width=\"600\" />"
   ]
  },
  {
   "cell_type": "code",
   "execution_count": 61,
   "id": "52da213a",
   "metadata": {},
   "outputs": [
    {
     "data": {
      "text/html": [
       "\n",
       "        <iframe\n",
       "            width=\"950\"\n",
       "            height=\"1000\"\n",
       "            src=\"./resources/tp1_ej10.pdf\"\n",
       "            frameborder=\"0\"\n",
       "            allowfullscreen\n",
       "            \n",
       "        ></iframe>\n",
       "        "
      ],
      "text/plain": [
       "<IPython.lib.display.IFrame at 0x7f31db174b80>"
      ]
     },
     "execution_count": 61,
     "metadata": {},
     "output_type": "execute_result"
    }
   ],
   "source": [
    "########################################### Eje 10 Resolucion Analitica ##########################################\n",
    "IFrame(\"./resources/tp1_ej10.pdf\", width=950, height=1000)"
   ]
  }
 ],
 "metadata": {
  "kernelspec": {
   "display_name": "Python 3 (ipykernel)",
   "language": "python",
   "name": "python3"
  },
  "language_info": {
   "codemirror_mode": {
    "name": "ipython",
    "version": 3
   },
   "file_extension": ".py",
   "mimetype": "text/x-python",
   "name": "python",
   "nbconvert_exporter": "python",
   "pygments_lexer": "ipython3",
   "version": "3.8.10"
  }
 },
 "nbformat": 4,
 "nbformat_minor": 5
}
